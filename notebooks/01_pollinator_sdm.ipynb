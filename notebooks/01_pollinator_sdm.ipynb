{
 "cells": [
  {
   "cell_type": "code",
   "execution_count": 2,
   "metadata": {},
   "outputs": [
    {
     "name": "stdout",
     "output_type": "stream",
     "text": [
      "OOB accuracy: 0.5254237288135594\n"
     ]
    },
    {
     "data": {
      "text/plain": [
       "['../models/pollinator_sdm.joblib']"
      ]
     },
     "execution_count": 2,
     "metadata": {},
     "output_type": "execute_result"
    }
   ],
   "source": [
    "import pandas as pd\n",
    "from sklearn.model_selection import train_test_split\n",
    "from sklearn.ensemble import RandomForestClassifier\n",
    "from joblib import dump\n",
    "\n",
    "df = pd.read_csv(\"../data/processed/pollinators_with_env.csv\")\n",
    "X  = df[[\"temp\",\"precip\",\"nitrogen\"]]\n",
    "y  = df[\"species\"]\n",
    "\n",
    "Xtr,Xte,Ytr,Yte = train_test_split(X,y,stratify=y,test_size=0.3,random_state=42)\n",
    "rf = RandomForestClassifier(n_estimators=400,class_weight=\"balanced\")\n",
    "rf.fit(Xtr,Ytr)\n",
    "print(\"OOB accuracy:\", rf.score(Xte,Yte))\n",
    "\n",
    "dump(rf, \"../models/pollinator_sdm.joblib\")\n"
   ]
  }
 ],
 "metadata": {
  "kernelspec": {
   "display_name": "biodt-grassland",
   "language": "python",
   "name": "python3"
  },
  "language_info": {
   "codemirror_mode": {
    "name": "ipython",
    "version": 3
   },
   "file_extension": ".py",
   "mimetype": "text/x-python",
   "name": "python",
   "nbconvert_exporter": "python",
   "pygments_lexer": "ipython3",
   "version": "3.11.12"
  }
 },
 "nbformat": 4,
 "nbformat_minor": 2
}
