{
 "cells": [
  {
   "cell_type": "code",
   "execution_count": 3,
   "metadata": {},
   "outputs": [
    {
     "data": {
      "text/html": [
       "<div>\n",
       "<style scoped>\n",
       "    .dataframe tbody tr th:only-of-type {\n",
       "        vertical-align: middle;\n",
       "    }\n",
       "\n",
       "    .dataframe tbody tr th {\n",
       "        vertical-align: top;\n",
       "    }\n",
       "\n",
       "    .dataframe thead th {\n",
       "        text-align: right;\n",
       "    }\n",
       "</style>\n",
       "<table border=\"1\" class=\"dataframe\">\n",
       "  <thead>\n",
       "    <tr style=\"text-align: right;\">\n",
       "      <th></th>\n",
       "      <th>site_id</th>\n",
       "      <th>date</th>\n",
       "      <th>annual_yield</th>\n",
       "    </tr>\n",
       "  </thead>\n",
       "  <tbody>\n",
       "    <tr>\n",
       "      <th>0</th>\n",
       "      <td>lat51.3_lon11.8</td>\n",
       "      <td>2018</td>\n",
       "      <td>337359.027741</td>\n",
       "    </tr>\n",
       "    <tr>\n",
       "      <th>1</th>\n",
       "      <td>lat51.3_lon11.9</td>\n",
       "      <td>2018</td>\n",
       "      <td>350730.025900</td>\n",
       "    </tr>\n",
       "    <tr>\n",
       "      <th>2</th>\n",
       "      <td>lat51.4_lon11.8</td>\n",
       "      <td>2018</td>\n",
       "      <td>350633.341794</td>\n",
       "    </tr>\n",
       "    <tr>\n",
       "      <th>3</th>\n",
       "      <td>lat51.4_lon11.9</td>\n",
       "      <td>2018</td>\n",
       "      <td>363614.827593</td>\n",
       "    </tr>\n",
       "  </tbody>\n",
       "</table>\n",
       "</div>"
      ],
      "text/plain": [
       "           site_id  date   annual_yield\n",
       "0  lat51.3_lon11.8  2018  337359.027741\n",
       "1  lat51.3_lon11.9  2018  350730.025900\n",
       "2  lat51.4_lon11.8  2018  350633.341794\n",
       "3  lat51.4_lon11.9  2018  363614.827593"
      ]
     },
     "execution_count": 3,
     "metadata": {},
     "output_type": "execute_result"
    }
   ],
   "source": [
    "import pandas as pd\n",
    "import numpy as np\n",
    "\n",
    "# Load your environmental driver table ------------------\n",
    "# Assume you have prepared daily data with columns:\n",
    "#   date, site_id, temp, precip, nitrogen\n",
    "env = pd.read_csv(\"../data/processed/daily_env.csv\")\n",
    "\n",
    "# make sure column names match\n",
    "env = env.rename(columns={\"time\": \"date\"})   # if needed\n",
    "\n",
    "def predict_yield(row, k=1.0):\n",
    "    return k * row[\"nitrogen\"] * row[\"precip\"] * row[\"temp\"]\n",
    "\n",
    "env[\"yield_pred\"] = env.apply(predict_yield, axis=1)\n",
    "\n",
    "annual = (env\n",
    "          .groupby([\"site_id\", env[\"date\"].str[:4]])\n",
    "          [\"yield_pred\"].sum()\n",
    "          .reset_index(name=\"annual_yield\"))\n",
    "\n",
    "annual.head()"
   ]
  }
 ],
 "metadata": {
  "kernelspec": {
   "display_name": "biodt-grassland",
   "language": "python",
   "name": "python3"
  },
  "language_info": {
   "codemirror_mode": {
    "name": "ipython",
    "version": 3
   },
   "file_extension": ".py",
   "mimetype": "text/x-python",
   "name": "python",
   "nbconvert_exporter": "python",
   "pygments_lexer": "ipython3",
   "version": "3.11.12"
  }
 },
 "nbformat": 4,
 "nbformat_minor": 2
}
